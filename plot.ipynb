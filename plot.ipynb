{
 "cells": [
  {
   "cell_type": "code",
   "execution_count": 1,
   "metadata": {},
   "outputs": [],
   "source": [
    "import mdtraj as md\n",
    "import numpy as np\n",
    "import os, math\n",
    "import pandas as pd \n",
    "import matplotlib.pyplot as plt\n",
    "from utils import binMolDen\n",
    "from xgboost import XGBRegressor\n",
    "import torch\n",
    "from model import *\n",
    "from solv_utils import *\n",
    "LJ = {\n",
    "    'NA': ['0.3526', '2.1600'],\n",
    "    'CL': ['0.0128', '4.8305'],\n",
    "    'MG': ['0.8750', '2.1200'],\n",
    "    'LI': ['0.3367', '1.4094'],\n",
    "    'K':  ['0.4297', '2.8384']\n",
    "}"
   ]
  },
  {
   "cell_type": "code",
   "execution_count": 2,
   "metadata": {},
   "outputs": [],
   "source": [
    "# Load Ground truth\n",
    "gt = np.load('data/ground_truth.npz', allow_pickle=True)['data'].item()"
   ]
  },
  {
   "cell_type": "code",
   "execution_count": 3,
   "metadata": {},
   "outputs": [],
   "source": [
    "# Load XGBoost model\n",
    "bst = XGBRegressor()\n",
    "bst.load_model('train/XGBoost/xgb_model.json')"
   ]
  },
  {
   "cell_type": "code",
   "execution_count": 4,
   "metadata": {},
   "outputs": [
    {
     "data": {
      "text/plain": [
       "<All keys matched successfully>"
      ]
     },
     "execution_count": 4,
     "metadata": {},
     "output_type": "execute_result"
    }
   ],
   "source": [
    "# Load Neural network\n",
    "if torch.cuda.is_available():\n",
    "    device = 'gpu'\n",
    "else:\n",
    "    device = 'cpu'\n",
    "NN = IonNet(n_in=6, activation='ReLU').to(device)\n",
    "state_dict = torch.load('train/NN/model.pth', map_location=device)\n",
    "NN.load_state_dict(state_dict)"
   ]
  },
  {
   "cell_type": "code",
   "execution_count": 11,
   "metadata": {},
   "outputs": [],
   "source": [
    "# binSize=0.05\n",
    "# ion = 'CL'\n",
    "# g = 2\n",
    "# conc = 3\n",
    "\n",
    "def plot_single(ion, g, conc, binSize, ext=''):\n",
    "    sig, eps = float(LJ[ion][1]), float(LJ[ion][0])\n",
    "    if ion == 'CL':\n",
    "        cha = -1\n",
    "    elif ion == 'MG':\n",
    "        cha = 2\n",
    "    else:\n",
    "        cha = 1\n",
    "    # Get ground truth\n",
    "    xdim, ydim, nIon = gt['%s_%s_%s'%(ion, f2str(g), f2str(conc))][binSize][0]\n",
    "    cdf_gt = gt['%s_%s_%s'%(ion, f2str(g), f2str(conc))][binSize][1]\n",
    "    cdf_gt = np.array(cdf_gt)\n",
    "    pdf_gt = cdf_gt[1:] - cdf_gt[:-1]\n",
    "\n",
    "    # Get prediction from XGBoost\n",
    "    bins = np.array([[i*binSize, g, conc, sig, eps, cha] for i in range(int((g/2+0.1)//binSize)+2)])\n",
    "    cdf_xgb = bst.predict(bins)\n",
    "    cdf_xgb = np.array(cdf_xgb)\n",
    "    pdf_xgb= cdf_xgb[1:]-cdf_xgb[:-1]\n",
    "\n",
    "    # Get prediction from NN\n",
    "    with torch.no_grad():\n",
    "        NN.eval()\n",
    "        cdf_nn = []\n",
    "        for b in range(int((g/2+0.1)//binSize)+2):\n",
    "            b=b*binSize\n",
    "            p = NN(torch.tensor([b, g, conc, sig, eps, cha]).float()).numpy()\n",
    "            cdf_nn.append(p)\n",
    "        cdf_nn = np.array(cdf_nn)\n",
    "        pdf_nn = cdf_nn[1:]-cdf_nn[:-1]\n",
    "        # conc_profile = binMolDen(3.1928623, 3.4032, binSize, pdf*len(ions)/2)\n",
    "    mol_gt = binMolDen(xdim, ydim, binSize, pdf_gt*(nIon/2))\n",
    "    mol_xgb = binMolDen(xdim, ydim, binSize, pdf_xgb*(nIon/2))\n",
    "    mol_nn = binMolDen(xdim, ydim, binSize, pdf_nn*(nIon/2))\n",
    "    mol_gt = mol_gt[:len(mol_nn)]\n",
    "    plt.figure(figsize=[3.5,3], dpi=600)\n",
    "\n",
    "    plt.plot(bins[:len(mol_gt), 0], mol_gt,marker='o', linewidth=0.5, markersize=1.5, label='MD')\n",
    "    plt.plot(bins[:-1, 0], mol_xgb, marker='s', linewidth=0.5, markersize=1.5, label='XGBoost')\n",
    "    plt.plot(bins[:-1, 0], mol_nn, marker='x', linewidth=0.5, markersize=2.5, markeredgewidth=0.6,label='NN')\n",
    "    plt.xlabel('Distance from channel center (nm)', fontsize=11)\n",
    "    plt.ylabel('Ion concentration (M)', fontsize= 11)\n",
    "    plt.legend(frameon=False)\n",
    "    plt.tick_params(direction='in')\n",
    "    plt.savefig('figure/preliminary/new/%s_%s_%s%s.png'%(ion, f2str(g), f2str(conc), ext), bbox_inches='tight')\n",
    "    plt.close()\n",
    "    return"
   ]
  },
  {
   "cell_type": "code",
   "execution_count": 6,
   "metadata": {},
   "outputs": [],
   "source": [
    "binSize=0.05\n",
    "for ion in ['NA', 'CL']:\n",
    "    for g in [1, 2, 3]:\n",
    "        for conc in [1, 2, 3]:\n",
    "            plot_single(ion, g, conc, binSize)"
   ]
  },
  {
   "cell_type": "code",
   "execution_count": 7,
   "metadata": {},
   "outputs": [],
   "source": [
    "binSize=0.05\n",
    "for ion in ['NA', 'CL', 'MG', 'K', 'LI']:\n",
    "    plot_single(ion, 2, 2.2, binSize)"
   ]
  },
  {
   "cell_type": "code",
   "execution_count": 14,
   "metadata": {},
   "outputs": [],
   "source": [
    "for b in [0.01, 0.02, 0.05, 0.1]:\n",
    "    plot_single('NA', 2, 2.2, b, '_'+str(b))"
   ]
  },
  {
   "cell_type": "code",
   "execution_count": 9,
   "metadata": {},
   "outputs": [],
   "source": [
    "plot_single('CL', 1.6, 2.2, 0.05)\n",
    "plot_single('NA', 1.6, 2.2, 0.05)"
   ]
  },
  {
   "cell_type": "code",
   "execution_count": 10,
   "metadata": {},
   "outputs": [
    {
     "data": {
      "text/plain": [
       "16.0"
      ]
     },
     "execution_count": 10,
     "metadata": {},
     "output_type": "execute_result"
    }
   ],
   "source": [
    "0.8//0.05"
   ]
  },
  {
   "cell_type": "code",
   "execution_count": null,
   "metadata": {},
   "outputs": [],
   "source": []
  }
 ],
 "metadata": {
  "kernelspec": {
   "display_name": "base",
   "language": "python",
   "name": "python3"
  },
  "language_info": {
   "codemirror_mode": {
    "name": "ipython",
    "version": 3
   },
   "file_extension": ".py",
   "mimetype": "text/x-python",
   "name": "python",
   "nbconvert_exporter": "python",
   "pygments_lexer": "ipython3",
   "version": "3.9.13"
  },
  "orig_nbformat": 4,
  "vscode": {
   "interpreter": {
    "hash": "c6e4e9f98eb68ad3b7c296f83d20e6de614cb42e90992a65aa266555a3137d0d"
   }
  }
 },
 "nbformat": 4,
 "nbformat_minor": 2
}
